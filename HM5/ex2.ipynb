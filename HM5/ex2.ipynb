{
 "cells": [
  {
   "cell_type": "code",
   "execution_count": null,
   "metadata": {},
   "outputs": [],
   "source": [
    "import pandas as pd\n",
    "\"\"\" for reading meanings only\"\"\"\n",
    "\n",
    "df = pd.read_csv(\"national-budget.csv\")\n",
    "pd.set_option('display.max_columns', None)\n",
    "df.info()"
   ]
  },
  {
   "cell_type": "code",
   "execution_count": null,
   "metadata": {},
   "outputs": [],
   "source": [
    "\n",
    "df.head()"
   ]
  },
  {
   "cell_type": "code",
   "execution_count": null,
   "metadata": {},
   "outputs": [],
   "source": [
    "def education_budget(df:pd.DataFrame,year:int) -> int:\n",
    "    \"\"\"as for using the database we filter with pandas syntax by expenses and then we sum up all of them to get the budget.\"\"\"\n",
    "    filtered = df[(df['שנה'] == year) & (df['הוצאה/הכנסה'] == 'הוצאה')] ; ans = 0\n",
    "    for x in filtered[filtered['שם תחום'].str.contains('חינוך')]['הוצאה נטו']:\n",
    "        ans += x\n",
    "    return ans\n",
    "\n",
    "education_budget(df,1997)"
   ]
  },
  {
   "cell_type": "code",
   "execution_count": null,
   "metadata": {},
   "outputs": [],
   "source": [
    "def security_budget_ratio(df:pd.DataFrame ,year:int) -> float:\n",
    "    \"\"\" we filter again this time we sum the year than we sum the expenses and hen we devide to find precentage.\"\"\"\n",
    "    filtered_year = df[(df['שנה'] == year)]; sum_of_year = 0; sum_of_security = 0\n",
    "    for x in filtered_year['הוצאה נטו']:\n",
    "        sum_of_year += x\n",
    "    filtered_security  = filtered_year[filtered_year['שם תחום'] == 'בטחון'] \n",
    "    for x in filtered_security['הוצאה נטו']:\n",
    "        sum_of_security += x\n",
    "    return sum_of_security / sum_of_year * 100\n",
    "    \n",
    "\n",
    "security_budget_ratio(df,1997)\n",
    "    "
   ]
  },
  {
   "cell_type": "code",
   "execution_count": null,
   "metadata": {},
   "outputs": [],
   "source": [
    "def largest_budget_year(df:pd.DataFrame, department_name: str) -> int:\n",
    "    \"\"\" we filter the df, then we sum up all of the values in the filted by year, and expenses, note! we are getting in return a series object,\n",
    "    not a floating number, then we use the [] operator to get tha value and we insert it into a dict so we cound catagories each year to its maximum, \n",
    "    then by using a labda expression that will filter the dict of year by the value of its year we return the maximum of all the years.\"\"\"\n",
    "    filtered = df[df['שם סעיף'] == department_name] ; dickt = {}; sum_of_year = 0\n",
    "    for year in filtered['שנה'].unique():\n",
    "        sum_of_year += filtered[filtered['שנה'] == year]['הוצאה נטו']\n",
    "        if sum_of_year is not None:\n",
    "            dickt[str(year)] = sum_of_year[0]\n",
    "    return max(dickt, key =lambda x: dickt[x])\n",
    "\n",
    "largest_budget_year(df,\"משרד הבטחון\")\n",
    "    "
   ]
  },
  {
   "cell_type": "code",
   "execution_count": null,
   "metadata": {},
   "outputs": [],
   "source": [
    "def salary_as_a_precentage_of_budget(df, office, year) -> float:\n",
    "\n",
    "    df2 = df[(df['שנה'] == year) & (df['הוצאה/הכנסה'] == 'הוצאה')] ; ans = 0\n",
    "    for x in df2[df2['שם תחום'].str.contains('חינוך')]['הוצאה נטו']:\n",
    "        ans += x\n",
    "    df2 = df[((df['שם מיון רמה 1'] == 'שכר') & df['שם סעיף'] == office) & (df['שנה'] == year)]\n",
    "\n",
    "    return  abs(df2['הוצאה נטו'].sum() - ans) / ans * 100\n",
    "\n",
    "salary_as_a_precentage_of_budget(df, 'משרד הבטחון', 1997)"
   ]
  }
 ],
 "metadata": {
  "interpreter": {
   "hash": "6d24d64e89d595be9f241825a2766f308baccff98c897b31f0b7150586bd9308"
  },
  "kernelspec": {
   "display_name": "Python 3.9.12 64-bit (windows store)",
   "language": "python",
   "name": "python3"
  },
  "language_info": {
   "codemirror_mode": {
    "name": "ipython",
    "version": 3
   },
   "file_extension": ".py",
   "mimetype": "text/x-python",
   "name": "python",
   "nbconvert_exporter": "python",
   "pygments_lexer": "ipython3",
   "version": "3.9.12"
  },
  "orig_nbformat": 4
 },
 "nbformat": 4,
 "nbformat_minor": 2
}
